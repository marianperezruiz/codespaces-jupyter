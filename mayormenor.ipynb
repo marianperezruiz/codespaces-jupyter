{
 "cells": [
  {
   "cell_type": "code",
   "execution_count": null,
   "metadata": {},
   "outputs": [],
   "source": [
    "variable1=float(input()) \n",
    "variable2=float(input()) \n",
    "print(variable1>variable2) \n",
    "if variable1>variable2:\n",
    "    print(\"El primer numero es mayor\")\n",
    "else:\n",
    "    print(\"El primer numero es menor\")"
   ]
  }
 ],
 "metadata": {
  "language_info": {
   "name": "python"
  }
 },
 "nbformat": 4,
 "nbformat_minor": 2
}
